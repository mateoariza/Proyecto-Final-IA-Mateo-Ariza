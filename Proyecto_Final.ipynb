{
  "nbformat": 4,
  "nbformat_minor": 0,
  "metadata": {
    "colab": {
      "provenance": []
    },
    "kernelspec": {
      "name": "python3",
      "display_name": "Python 3"
    },
    "language_info": {
      "name": "python"
    }
  },
  "cells": [
    {
      "cell_type": "code",
      "execution_count": 1,
      "metadata": {
        "id": "QKSYw1byYUCj"
      },
      "outputs": [],
      "source": [
        "import pandas as pd\n",
        "import numpy as np\n",
        "import seaborn as sns\n",
        "import matplotlib.pyplot as plt\n",
        "from mpl_toolkits.mplot3d import Axes3D\n",
        "from sklearn import decomposition\n",
        "from sklearn import datasets\n",
        "from sklearn.preprocessing import StandardScaler\n",
        "from sklearn.preprocessing import MinMaxScaler\n",
        "from sklearn.decomposition import PCA, KernelPCA\n",
        "from sklearn.model_selection import train_test_split\n",
        "from matplotlib.colors import ListedColormap\n",
        "from sklearn import svm\n",
        "from sklearn import metrics\n",
        "from sklearn.linear_model import LogisticRegression\n",
        "from sklearn.metrics import matthews_corrcoef\n",
        "from sklearn.metrics import accuracy_score\n",
        "from sklearn.metrics import roc_curve,roc_auc_score\n",
        "from sklearn.model_selection import GridSearchCV\n",
        "from sklearn.neural_network import MLPClassifier\n",
        "from sklearn.metrics import classification_report\n",
        "from sklearn.metrics import confusion_matrix"
      ]
    },
    {
      "cell_type": "code",
      "source": [
        "data = pd.read_csv(\"train.csv\", sep=\",\") # Importar los datos\n",
        "test = pd.read_csv(\"test.csv\", sep=\",\") # Importar los datos\n",
        "\n",
        "print(\"Los datos vacios en train son: \\n\")\n",
        "print(data.isnull().sum()) #Se mira cuales columnas les falta datos\n",
        "\n",
        "print(\"Los datos vacios en test son: \\n\")\n",
        "print(test.isnull().sum()) #Se mira cuales columnas les falta datos\n",
        "\n",
        "# Se eliminan las columnas que no se utilizaran\n",
        "data = data.drop(['id', 'Type of Travel', 'Flight Distance', 'Departure/Arrival time convenient', 'Departure Delay in Minutes','Arrival Delay in Minutes'], axis=1)\n",
        "print(\"Las dimensiones del conjunto de datos son:\",data.shape)\n"
      ],
      "metadata": {
        "colab": {
          "base_uri": "https://localhost:8080/"
        },
        "id": "EVSvi3dkZdwG",
        "outputId": "52843dcb-66f9-41a5-c2c8-10c9f36730b1"
      },
      "execution_count": 2,
      "outputs": [
        {
          "output_type": "stream",
          "name": "stdout",
          "text": [
            "Los datos vacios en train son: \n",
            "\n",
            "Unnamed: 0                             0\n",
            "id                                     0\n",
            "Gender                                 0\n",
            "Customer Type                          0\n",
            "Age                                    0\n",
            "Type of Travel                         0\n",
            "Class                                  0\n",
            "Flight Distance                        0\n",
            "Inflight wifi service                  0\n",
            "Departure/Arrival time convenient      0\n",
            "Ease of Online booking                 0\n",
            "Gate location                          0\n",
            "Food and drink                         0\n",
            "Online boarding                        0\n",
            "Seat comfort                           0\n",
            "Inflight entertainment                 0\n",
            "On-board service                       0\n",
            "Leg room service                       0\n",
            "Baggage handling                       0\n",
            "Checkin service                        0\n",
            "Inflight service                       0\n",
            "Cleanliness                            0\n",
            "Departure Delay in Minutes             0\n",
            "Arrival Delay in Minutes             310\n",
            "satisfaction                           0\n",
            "dtype: int64\n",
            "Los datos vacios en test son: \n",
            "\n",
            "Unnamed: 0                            0\n",
            "id                                    0\n",
            "Gender                                0\n",
            "Customer Type                         0\n",
            "Age                                   0\n",
            "Type of Travel                        0\n",
            "Class                                 0\n",
            "Flight Distance                       0\n",
            "Inflight wifi service                 0\n",
            "Departure/Arrival time convenient     0\n",
            "Ease of Online booking                0\n",
            "Gate location                         0\n",
            "Food and drink                        0\n",
            "Online boarding                       0\n",
            "Seat comfort                          0\n",
            "Inflight entertainment                0\n",
            "On-board service                      0\n",
            "Leg room service                      0\n",
            "Baggage handling                      0\n",
            "Checkin service                       0\n",
            "Inflight service                      0\n",
            "Cleanliness                           0\n",
            "Departure Delay in Minutes            0\n",
            "Arrival Delay in Minutes             83\n",
            "satisfaction                          0\n",
            "dtype: int64\n",
            "Las dimensiones del conjunto de datos son: (103904, 19)\n"
          ]
        }
      ]
    },
    {
      "cell_type": "code",
      "source": [
        "data = data[data['Gender'].notna()]\n",
        "data = data[data['Customer Type'].notna()]\n",
        "data = data[data['Age'].notna()]\n",
        "data = data[data['Class'].notna()]\n",
        "data = data[data['Inflight wifi service'].notna()]\n",
        "data = data[data['Ease of Online booking'].notna()]\n",
        "data = data[data['Gate location'].notna()]\n",
        "data = data[data['Food and drink'].notna()]\n",
        "data = data[data['Online boarding'].notna()]\n",
        "data = data[data['Seat comfort'].notna()]\n",
        "data = data[data['Inflight entertainment'].notna()]\n",
        "data = data[data['On-board service'].notna()]\n",
        "data = data[data['Leg room service'].notna()]\n",
        "data = data[data['Baggage handling'].notna()]\n",
        "data = data[data['Checkin service'].notna()]\n",
        "data = data[data['Inflight service'].notna()]\n",
        "data = data[data['satisfaction'].notna()]\n",
        "\n",
        "print(\"Las nuevas dimensiones del conjunto de datos son:\",data.shape)"
      ],
      "metadata": {
        "colab": {
          "base_uri": "https://localhost:8080/"
        },
        "id": "AO172hpoZf8D",
        "outputId": "3a856ee8-85e8-4f83-d2b1-8bcfa6a493e7"
      },
      "execution_count": 4,
      "outputs": [
        {
          "output_type": "stream",
          "name": "stdout",
          "text": [
            "Las nuevas dimensiones del conjunto de datos son: (103904, 19)\n"
          ]
        }
      ]
    },
    {
      "cell_type": "code",
      "source": [
        "data.loc[data['Gender'] == 'Male', 'Gender'] = '1'\n",
        "data.loc[data['Gender'] == 'Female', 'Gender'] = '0'\n",
        "\n",
        "data.loc[data['Customer Type'] == 'Loyal Customer', 'Customer Type'] = '1'\n",
        "data.loc[data['Customer Type'] == 'disloyal Customer', 'Customer Type'] = '0'\n",
        "\n",
        "data.loc[data['Class'] == 'Business', 'Class'] = '2'\n",
        "data.loc[data['Class'] == 'Eco Plus', 'Class'] = '1'\n",
        "data.loc[data['Class'] == 'Eco', 'Class'] = '0'\n",
        "\n",
        "data.loc[data['satisfaction'] == 'satisfied', 'satisfaction'] = '1'\n",
        "data.loc[data['satisfaction'] == 'neutral or dissatisfied', 'satisfaction'] = '0'"
      ],
      "metadata": {
        "id": "wjyyAyI6Zh4S"
      },
      "execution_count": 5,
      "outputs": []
    },
    {
      "cell_type": "code",
      "source": [
        "#Crear csv con datos limpios\n",
        "\n",
        "clean_data = pd.DataFrame(data, columns = ['Gender','Customer Type','Age','Class','Inflight wifi service','Ease of Online booking','Gate location','Food and drink','Online boarding','Seat comfort','Inflight entertainment','On-board service','Leg room service','Baggage handling','Checkin service','Inflight service','satisfaction'])\n",
        "print(\"Datos limpios \", clean_data)\n",
        "\n",
        "clean_data.to_csv('clean_data.csv')\n",
        "\n",
        "Xo = pd.DataFrame(clean_data, columns = ['Gender','Customer Type','Age','Class','Inflight wifi service','Ease of Online booking','Gate location','Food and drink','Online boarding','Seat comfort','Inflight entertainment','On-board service','Leg room service','Baggage handling','Checkin service','Inflight service'])\n",
        "Y  = pd.DataFrame(clean_data, columns = ['satisfaction'])\n"
      ],
      "metadata": {
        "colab": {
          "base_uri": "https://localhost:8080/"
        },
        "id": "vERHj9FtZpNz",
        "outputId": "52ce6ae5-984a-40ef-b8e3-a62d660c14c3"
      },
      "execution_count": 9,
      "outputs": [
        {
          "output_type": "stream",
          "name": "stdout",
          "text": [
            "Datos limpios         Gender Customer Type  Age Class  Inflight wifi service  \\\n",
            "0           1             1   13     1                      3   \n",
            "1           1             0   25     2                      3   \n",
            "2           0             1   26     2                      2   \n",
            "3           0             1   25     2                      2   \n",
            "4           1             1   61     2                      3   \n",
            "...       ...           ...  ...   ...                    ...   \n",
            "103899      0             0   23     0                      2   \n",
            "103900      1             1   49     2                      4   \n",
            "103901      1             0   30     2                      1   \n",
            "103902      0             0   22     0                      1   \n",
            "103903      1             1   27     2                      1   \n",
            "\n",
            "        Ease of Online booking  Gate location  Food and drink  \\\n",
            "0                            3              1               5   \n",
            "1                            3              3               1   \n",
            "2                            2              2               5   \n",
            "3                            5              5               2   \n",
            "4                            3              3               4   \n",
            "...                        ...            ...             ...   \n",
            "103899                       2              3               2   \n",
            "103900                       4              4               2   \n",
            "103901                       1              3               4   \n",
            "103902                       1              5               1   \n",
            "103903                       3              3               1   \n",
            "\n",
            "        Online boarding  Seat comfort  Inflight entertainment  \\\n",
            "0                     3             5                       5   \n",
            "1                     3             1                       1   \n",
            "2                     5             5                       5   \n",
            "3                     2             2                       2   \n",
            "4                     5             5                       3   \n",
            "...                 ...           ...                     ...   \n",
            "103899                2             2                       2   \n",
            "103900                4             5                       5   \n",
            "103901                1             5                       4   \n",
            "103902                1             1                       1   \n",
            "103903                1             1                       1   \n",
            "\n",
            "        On-board service  Leg room service  Baggage handling  Checkin service  \\\n",
            "0                      4                 3                 4                4   \n",
            "1                      1                 5                 3                1   \n",
            "2                      4                 3                 4                4   \n",
            "3                      2                 5                 3                1   \n",
            "4                      3                 4                 4                3   \n",
            "...                  ...               ...               ...              ...   \n",
            "103899                 3                 1                 4                2   \n",
            "103900                 5                 5                 5                5   \n",
            "103901                 3                 2                 4                5   \n",
            "103902                 4                 5                 1                5   \n",
            "103903                 1                 1                 4                4   \n",
            "\n",
            "        Inflight service satisfaction  \n",
            "0                      5            0  \n",
            "1                      4            0  \n",
            "2                      4            1  \n",
            "3                      4            0  \n",
            "4                      3            1  \n",
            "...                  ...          ...  \n",
            "103899                 3            0  \n",
            "103900                 5            1  \n",
            "103901                 5            0  \n",
            "103902                 4            0  \n",
            "103903                 3            0  \n",
            "\n",
            "[103904 rows x 17 columns]\n"
          ]
        }
      ]
    },
    {
      "cell_type": "code",
      "source": [
        "#Seleccion de los datos de train y test, Normalización y PCA\n",
        "#--------------------Seleccionar datos train y test para el modelo (80% y 20%)------------------------------\n",
        "\n",
        "X_train, X_test, Y_train, Y_test = train_test_split(Xo, Y, test_size=0.2, train_size=0.8, random_state=0)"
      ],
      "metadata": {
        "id": "aBcGhR0QaFB1"
      },
      "execution_count": 10,
      "outputs": []
    },
    {
      "cell_type": "code",
      "source": [
        "#--------------------Funcion Nomrmalizacion(X)---------------------------------------------------\n",
        "\n",
        "def normMinMax(Xo):\n",
        "    scaler = MinMaxScaler()\n",
        "    scaler.fit(Xo)\n",
        "    X = scaler.transform(Xo)\n",
        "    print(X,X.shape)\n",
        "    return X"
      ],
      "metadata": {
        "id": "oUNtm-V2aNXx"
      },
      "execution_count": 14,
      "outputs": []
    },
    {
      "cell_type": "code",
      "source": [
        "#--------------------Funcion PCA (X, Numero de componentes)-----------------------------------\n",
        "def PCAfunction(X, comps):\n",
        "    pca = decomposition.PCA(n_components=comps,whiten=True,svd_solver='auto')\n",
        "    pca.fit(X)\n",
        "    X = pca.transform(X)\n",
        "    print(\"Pesos de PCA:\",pca.explained_variance_ratio_,'\\n')\n",
        "    sumpca = sum(pca.explained_variance_ratio_)\n",
        "    print(\"Se puede hacer reduccion dimensional, quedaria con \",comps,\"y la suma de las componentes que quedan es:\", sumpca,\"\\n\")\n",
        "    return X\n"
      ],
      "metadata": {
        "id": "i5-hoFmtadwL"
      },
      "execution_count": 16,
      "outputs": []
    },
    {
      "cell_type": "code",
      "source": [
        "Xn = normMinMax(X_train)\n",
        "X_train =PCAfunction(Xn,15)\n",
        "\n",
        "\n",
        "Xtn = normMinMax(X_test)\n",
        "X_test =PCAfunction(Xtn,15)"
      ],
      "metadata": {
        "colab": {
          "base_uri": "https://localhost:8080/"
        },
        "id": "6VRZ-vIcar4J",
        "outputId": "4e2b0257-748e-4a66-9429-b74ad22e789d"
      },
      "execution_count": 17,
      "outputs": [
        {
          "output_type": "stream",
          "name": "stdout",
          "text": [
            "[[1.         1.         0.41025641 ... 0.25       0.5        0.8       ]\n",
            " [1.         1.         0.14102564 ... 0.25       0.25       0.4       ]\n",
            " [0.         1.         0.21794872 ... 0.75       0.         0.8       ]\n",
            " ...\n",
            " [1.         1.         0.15384615 ... 0.75       0.5        0.8       ]\n",
            " [0.         1.         0.79487179 ... 1.         0.75       1.        ]\n",
            " [0.         1.         0.32051282 ... 0.75       0.75       0.8       ]] (83123, 16)\n",
            "Pesos de PCA: [0.20956497 0.15838147 0.10814354 0.10472027 0.09434936 0.08180996\n",
            " 0.05630297 0.03728755 0.03104064 0.0250475  0.02267423 0.01901948\n",
            " 0.01516728 0.01473352 0.01205098] \n",
            "\n",
            "Se puede hacer reduccion dimensional, quedaria con  15 y la suma de las componentes que quedan es: 0.9902937492233985 \n",
            "\n",
            "[[1.         1.         0.41025641 ... 0.75       0.8        0.75      ]\n",
            " [0.         1.         0.76923077 ... 0.25       1.         0.25      ]\n",
            " [1.         1.         0.20512821 ... 0.75       0.4        0.75      ]\n",
            " ...\n",
            " [1.         1.         0.53846154 ... 1.         1.         1.        ]\n",
            " [1.         1.         0.         ... 0.5        1.         0.25      ]\n",
            " [1.         1.         0.29487179 ... 0.         0.4        0.25      ]] (20781, 16)\n",
            "Pesos de PCA: [0.20737403 0.15547018 0.11602745 0.1066559  0.0963561  0.07646662\n",
            " 0.04829494 0.03724011 0.03114435 0.02958988 0.02254236 0.01954298\n",
            " 0.01772262 0.01408371 0.01203628] \n",
            "\n",
            "Se puede hacer reduccion dimensional, quedaria con  15 y la suma de las componentes que quedan es: 0.9905475090906904 \n",
            "\n"
          ]
        }
      ]
    },
    {
      "cell_type": "code",
      "source": [
        "LR = LogisticRegression(C=10)\n",
        "LR.fit(X_train,Y_train.values.ravel())\n",
        "\n",
        "Y_pred_LR = LR.predict(X_test)\n",
        "Acc_LR = LR.score(X_test,Y_test.values.ravel())\n",
        "Y_test_scores_LR = LR.decision_function(X_test)\n",
        "\n",
        "\n",
        "MCC_LR = matthews_corrcoef(Y_test, Y_pred_LR)\n",
        "print(\"\\n\",\"matthews_corrcoef para LR: \", MCC_LR,\"\\n\")\n",
        "\n",
        "\n",
        "print(\"Accuracy LR Test: \",Acc_LR)\n",
        "\n",
        "Auc_LR = roc_auc_score(Y_test.values.ravel(),Y_pred_LR)\n",
        "print(\"roc_auc LR Test: \",Auc_LR)\n",
        "\n",
        "print(\"\\n Matriz de confusion para Regresion Logistica\")\n",
        "cm_LR=confusion_matrix(Y_test.values.ravel(),Y_pred_LR)\n",
        "sns.heatmap(cm_LR,annot=True,fmt='d')\n",
        "plt.show()\n",
        "\n",
        "\n",
        "MCC = matthews_corrcoef(Y_test, Y_pred_LR)\n",
        "print(\"\\n\",\"matthews_corrcoef: \", MCC,\"\\n\")\n",
        "ACC = accuracy_score(Y_test, Y_pred_LR)\n",
        "print(\"Accuracy: \", ACC,\"\\n\")\n"
      ],
      "metadata": {
        "colab": {
          "base_uri": "https://localhost:8080/",
          "height": 473
        },
        "id": "rIX45tDia1Dq",
        "outputId": "2934152f-bf90-46a7-ea14-f8a935cc16a7"
      },
      "execution_count": 21,
      "outputs": [
        {
          "output_type": "stream",
          "name": "stdout",
          "text": [
            "\n",
            " matthews_corrcoef para LR:  0.5792328827392802 \n",
            "\n",
            "Accuracy LR Test:  0.794283239497618\n",
            "roc_auc LR Test:  0.7875419658423712\n",
            "\n",
            " Matriz de confusion para Regresion Logistica\n"
          ]
        },
        {
          "output_type": "display_data",
          "data": {
            "text/plain": [
              "<Figure size 432x288 with 2 Axes>"
            ],
            "image/png": "[encoded data removed]"
          },
          "metadata": {
            "needs_background": "light"
          }
        },
        {
          "output_type": "stream",
          "name": "stdout",
          "text": [
            "\n",
            " matthews_corrcoef:  0.5792328827392802 \n",
            "\n",
            "Accuracy:  0.794283239497618 \n",
            "\n"
          ]
        }
      ]
    },
    {
      "cell_type": "code",
      "source": [
        "MSV = svm.SVC(kernel=\"sigmoid\", C=10, gamma='scale')\n",
        "MSV.fit(X_train,Y_train.values.ravel())\n",
        "\n",
        "ACC = MSV.score(X_train, Y_train.values.ravel())\n",
        "\n",
        "\n",
        "Y_test_predicted_SVM = (MSV.predict(X_test))\n",
        "Y_test_scores = MSV.decision_function(X_test)\n",
        "\n",
        "\n",
        "MCC_SVM = matthews_corrcoef(Y_test, Y_test_predicted_SVM)\n",
        "print(\"\\n\",\"matthews_corrcoef para SVM: \", MCC_SVM,\"\\n\")\n",
        "\n",
        "\n",
        "\n",
        "Y_pred_SVM = MSV.predict(X_test)\n",
        "Acc_SVM = MSV.score(X_test,Y_test.values.ravel())\n",
        "print(\"Accuracy SVM Test: \",Acc_SVM)\n",
        "\n",
        "Auc_SVM = roc_auc_score(Y_test.values.ravel(),Y_pred_SVM)\n",
        "print(\"roc_auc SVM Test: \",Auc_SVM)\n",
        "\n",
        "print(\"\\n Matriz de confusion para Support vector Machine\")\n",
        "cm_SVM=confusion_matrix(Y_test.values.ravel(),Y_pred_SVM)\n",
        "sns.heatmap(cm_SVM,annot=True,fmt='d')\n",
        "plt.show()\n"
      ],
      "metadata": {
        "colab": {
          "base_uri": "https://localhost:8080/",
          "height": 387
        },
        "id": "VBF39oF8bQ25",
        "outputId": "c7960347-6e51-40df-adb8-b20fbd8c22d4"
      },
      "execution_count": 24,
      "outputs": [
        {
          "output_type": "stream",
          "name": "stdout",
          "text": [
            "\n",
            " matthews_corrcoef para SVM:  0.46912946879494155 \n",
            "\n",
            "Accuracy SVM Test:  0.7354795245657091\n",
            "roc_auc SVM Test:  0.736371716735903\n",
            "\n",
            " Matriz de confusion para Support vector Machine\n"
          ]
        },
        {
          "output_type": "display_data",
          "data": {
            "text/plain": [
              "<Figure size 432x288 with 2 Axes>"
            ],
            "image/png": "[encoded data removed]"
          },
          "metadata": {
            "needs_background": "light"
          }
        }
      ]
    },
    {
      "cell_type": "code",
      "source": [
        "ANN = MLPClassifier(hidden_layer_sizes=(100,100), activation='relu', solver='adam', alpha=10, batch_size='auto', learning_rate='adaptive', max_iter=5000)\n",
        "ANN.fit(X_train,Y_train.values.ravel())\n",
        "\n",
        "\n",
        "Y_test_predicted_ANN = (ANN.predict(X_test))\n",
        "Y_pred_ANN = ANN.predict(X_test)\n",
        "\n",
        "MCC_ANN = matthews_corrcoef(Y_test, Y_test_predicted_ANN)\n",
        "print(\"\\n\",\"matthews_corrcoef para ANN: \", MCC_ANN,\"\\n\")\n",
        "\n",
        "\n",
        "Acc_ANN = accuracy_score(Y_test.values.ravel(),Y_test_predicted_ANN)\n",
        "print(\"Accuracy ANN Test: \",Acc_ANN)\n",
        "\n",
        "Auc_ANN = roc_auc_score(Y_test,Y_pred_ANN)\n",
        "print(\"roc_auc ANN Test: \",Auc_ANN)\n",
        "\n",
        "\n",
        "print(\"\\n Matriz de confusion para Redes Neuronales\")\n",
        "cm_ANN=confusion_matrix(Y_test.values.ravel(),Y_pred_ANN)\n",
        "sns.heatmap(cm_ANN,annot=True,fmt='d')\n",
        "plt.show()"
      ],
      "metadata": {
        "colab": {
          "base_uri": "https://localhost:8080/",
          "height": 445
        },
        "id": "DqK7pg7OblDB",
        "outputId": "51a8a0ed-7efd-418d-dc73-103e551b03f3"
      },
      "execution_count": 23,
      "outputs": [
        {
          "output_type": "stream",
          "name": "stdout",
          "text": [
            "\n",
            " matthews_corrcoef para ANN:  0.5709016591361445 \n",
            "\n",
            "Accuracy ANN Test:  0.7905779317645927\n",
            "roc_auc ANN Test:  0.7812923683288254\n",
            "\n",
            " Matriz de confusion para Redes Neuronales\n"
          ]
        },
        {
          "output_type": "stream",
          "name": "stderr",
          "text": [
            "/usr/local/lib/python3.7/dist-packages/sklearn/metrics/_ranking.py:546: FutureWarning: Arrays of bytes/strings is being converted to decimal numbers if dtype='numeric'. This behavior is deprecated in 0.24 and will be removed in 1.1 (renaming of 0.26). Please convert your data to numeric values explicitly instead.\n",
            "  y_score = check_array(y_score, ensure_2d=False)\n"
          ]
        },
        {
          "output_type": "display_data",
          "data": {
            "text/plain": [
              "<Figure size 432x288 with 2 Axes>"
            ],
            "image/png": "[encoded data removed]"
          },
          "metadata": {
            "needs_background": "light"
          }
        }
      ]
    },
    {
      "cell_type": "code",
      "source": [
        "def limpiardatos(test):\n",
        "    # Se eliminan las columnas que no se utilizaran\n",
        "    test = test.drop([\"id\", \"Type of Travel\", \"Flight Distance\", \"Departure/Arrival time convenient\", \"Departure Delay in Minutes\",\"Arrival Delay in Minutes\"], axis=1)\n",
        "    print(\"\\n Las dimensiones del conjunto de datos son:\",test.shape)\n",
        "    \n",
        "    #Eliminar las filas con valores nulos o completarlos con la media de los existentes\n",
        "    \n",
        "    test = test[test[\"Gender\"].notna()]\n",
        "    test = test[test[\"Customer Type\"].notna()]\n",
        "    test = test[test[\"Age\"].notna()]\n",
        "    test = test[test[\"Class\"].notna()]\n",
        "    test = test[test[\"Inflight wifi service\"].notna()]\n",
        "    test = test[test[\"Ease of Online booking\"].notna()]\n",
        "    test = test[test[\"Gate location\"].notna()]\n",
        "    test = test[test[\"Food and drink\"].notna()]\n",
        "    test = test[test[\"Online boarding\"].notna()]\n",
        "    test = test[test[\"Seat comfort\"].notna()]\n",
        "    test = test[test[\"Inflight entertainment\"].notna()]\n",
        "    test = test[test[\"On-board service\"].notna()]\n",
        "    test = test[test[\"Leg room service\"].notna()]\n",
        "    test = test[test[\"Baggage handling\"].notna()]\n",
        "    test = test[test[\"Checkin service\"].notna()]\n",
        "    test = test[test[\"Inflight service\"].notna()]\n",
        "    test = test[test[\"satisfaction\"].notna()]\n",
        "    \n",
        "    print(\"Las nuevas dimensiones del conjunto de datos son:\",test.shape)\n",
        "    \n",
        "    test.loc[test[\"Gender\"] == \"Male\", \"Gender\"] = \"1\"\n",
        "    test.loc[test[\"Gender\"] == \"Female\", \"Gender\"] = \"0\"\n",
        "    \n",
        "    test.loc[test[\"Customer Type\"] == \"Loyal Customer\", \"Customer Type\"] = \"1\"\n",
        "    test.loc[test[\"Customer Type\"] == \"disloyal Customer\", \"Customer Type\"] = \"0\"\n",
        "    \n",
        "    test.loc[test[\"Class\"] == \"Business\", \"Class\"] = \"2\"\n",
        "    test.loc[test[\"Class\"] == \"Eco Plus\", \"Class\"] = \"1\"\n",
        "    test.loc[test[\"Class\"] == \"Eco\", \"Class\"] = \"0\"\n",
        "    \n",
        "    test.loc[test[\"satisfaction\"] == \"satisfied\", \"satisfaction\"] = \"1\"\n",
        "    test.loc[test[\"satisfaction\"] == \"neutral or dissatisfied\", \"satisfaction\"] = \"0\"\n",
        "    \n",
        "    \n",
        "    X_val = pd.DataFrame(test, columns = [\"Gender\",\"Customer Type\",\"Age\",\"Class\",\"Inflight wifi service\",\"Ease of Online booking\",\"Gate location\",\"Food and drink\",\"Online boarding\",\"Seat comfort\",\"Inflight entertainment\",\"On-board service\",\"Leg room service\",\"Baggage handling\",\"Checkin service\",\"Inflight service\"])\n",
        "    Y_val  = pd.DataFrame(test, columns = [\"satisfaction\"])\n",
        "    \n",
        "    return X_val,Y_val\n",
        "        \n",
        "\n",
        "    \n",
        "X_val,Y_val = limpiardatos(test)\n",
        "\n",
        "X_val = normMinMax(X_val)\n",
        "X_val =PCAfunction(X_val,15)"
      ],
      "metadata": {
        "colab": {
          "base_uri": "https://localhost:8080/"
        },
        "id": "R4RjUN29hgOF",
        "outputId": "e92f1f23-e10b-489b-d89b-e985e9d12427"
      },
      "execution_count": 25,
      "outputs": [
        {
          "output_type": "stream",
          "name": "stdout",
          "text": [
            "\n",
            " Las dimensiones del conjunto de datos son: (25976, 19)\n",
            "Las nuevas dimensiones del conjunto de datos son: (25976, 19)\n",
            "[[0.         1.         0.57692308 ... 1.         0.25       1.        ]\n",
            " [0.         1.         0.37179487 ... 0.75       0.5        0.8       ]\n",
            " [1.         0.         0.16666667 ... 0.5        0.25       0.4       ]\n",
            " ...\n",
            " [0.         1.         0.12820513 ... 0.75       1.         0.8       ]\n",
            " [1.         1.         0.08974359 ... 1.         0.75       1.        ]\n",
            " [0.         1.         0.44871795 ... 0.         0.         0.2       ]] (25976, 16)\n",
            "Pesos de PCA: [0.20459757 0.15459192 0.10678019 0.10427878 0.1004222  0.08131066\n",
            " 0.05607328 0.0460705  0.02982212 0.02482189 0.0216235  0.01843309\n",
            " 0.01529223 0.01424273 0.01232763] \n",
            "\n",
            "Se puede hacer reduccion dimensional, quedaria con  15 y la suma de las componentes que quedan es: 0.9906882965108995 \n",
            "\n"
          ]
        }
      ]
    },
    {
      "cell_type": "code",
      "source": [
        "#Regresion Logisitica\n",
        "\n",
        "Y_val_pred_LR = (LR.predict(X_val))\n",
        "ValAcc_LR = LR.score(X_val,Y_val.values.ravel())\n",
        "print(\"Accuracy LR Validation: \",ValAcc_LR)\n",
        "\n",
        "ValAuc_LR = roc_auc_score(Y_val.values.ravel(),Y_val_pred_LR)\n",
        "print(\"roc_auc LR Validation: \",ValAuc_LR)\n",
        "\n",
        "MCC = matthews_corrcoef(Y_val, Y_val_pred_LR)\n",
        "print(\"\\n\",\"matthews_corrcoef Regresion Logisitica: \", MCC,\"\\n\")\n"
      ],
      "metadata": {
        "colab": {
          "base_uri": "https://localhost:8080/"
        },
        "id": "Bem_cZgKhidW",
        "outputId": "14570b1a-761c-4ab3-cf98-669c41c2c0a8"
      },
      "execution_count": 26,
      "outputs": [
        {
          "output_type": "stream",
          "name": "stdout",
          "text": [
            "Accuracy LR Validation:  0.8322682476131814\n",
            "roc_auc LR Validation:  0.8272859829949247\n",
            "\n",
            " matthews_corrcoef Regresion Logisitica:  0.6583251616498929 \n",
            "\n"
          ]
        }
      ]
    },
    {
      "cell_type": "code",
      "source": [
        "#Support vector Machine\n",
        "\n",
        "Y_val_pred_SVM = (MSV.predict(X_val))\n",
        "ValAcc_SVM = MSV.score(X_val,Y_val.values.ravel())\n",
        "print(\"Accuracy SVM Validation: \",ValAcc_SVM)\n",
        "\n",
        "ValAuc_SVM = roc_auc_score(Y_val.values.ravel(),Y_val_pred_SVM)\n",
        "print(\"roc_auc SVM Validation: \",ValAuc_SVM)\n",
        "\n",
        "MCC = matthews_corrcoef(Y_val, Y_val_pred_SVM)\n",
        "print(\"\\n\",\"matthews_corrcoef SVM: \", MCC,\"\\n\")"
      ],
      "metadata": {
        "colab": {
          "base_uri": "https://localhost:8080/"
        },
        "id": "ps1UPxoehl21",
        "outputId": "d86d6368-9323-401a-9e59-a9328062573b"
      },
      "execution_count": 27,
      "outputs": [
        {
          "output_type": "stream",
          "name": "stdout",
          "text": [
            "Accuracy SVM Validation:  0.7485756082537727\n",
            "roc_auc SVM Validation:  0.7432342077193507\n",
            "\n",
            " matthews_corrcoef SVM:  0.4881282929482373 \n",
            "\n"
          ]
        }
      ]
    },
    {
      "cell_type": "code",
      "source": [
        "#Redes Neuronales\n",
        "\n",
        "Y_val_pred_ANN = (ANN.predict(X_val))\n",
        "ValAcc_ANN = ANN.score(X_val,Y_val.values.ravel())\n",
        "print(\"Accuracy ANN Validation: \",ValAcc_ANN)\n",
        "\n",
        "ValAuc_ANN = roc_auc_score(Y_val.values.ravel(),Y_val_pred_ANN)\n",
        "print(\"roc_auc ANN Validation: \",ValAuc_ANN)\n",
        "\n",
        "MCC = matthews_corrcoef(Y_val, Y_val_pred_ANN)\n",
        "print(\"\\n\",\"matthews_corrcoef ANN: \", MCC,\"\\n\")"
      ],
      "metadata": {
        "colab": {
          "base_uri": "https://localhost:8080/"
        },
        "id": "PrmetrWlhoQX",
        "outputId": "5da1fd52-2fa2-4fa6-892f-8211730308c7"
      },
      "execution_count": 28,
      "outputs": [
        {
          "output_type": "stream",
          "name": "stdout",
          "text": [
            "Accuracy ANN Validation:  0.8382737911918694\n",
            "roc_auc ANN Validation:  0.831226710411633\n",
            "\n",
            " matthews_corrcoef ANN:  0.6705531189224274 \n",
            "\n"
          ]
        },
        {
          "output_type": "stream",
          "name": "stderr",
          "text": [
            "/usr/local/lib/python3.7/dist-packages/sklearn/metrics/_ranking.py:546: FutureWarning: Arrays of bytes/strings is being converted to decimal numbers if dtype='numeric'. This behavior is deprecated in 0.24 and will be removed in 1.1 (renaming of 0.26). Please convert your data to numeric values explicitly instead.\n",
            "  y_score = check_array(y_score, ensure_2d=False)\n"
          ]
        }
      ]
    }
  ]
}